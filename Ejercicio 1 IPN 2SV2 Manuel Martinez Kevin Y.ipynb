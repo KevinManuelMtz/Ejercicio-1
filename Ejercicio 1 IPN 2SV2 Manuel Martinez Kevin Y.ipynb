{
  "nbformat": 4,
  "nbformat_minor": 0,
  "metadata": {
    "colab": {
      "name": "Untitled0.ipynb",
      "provenance": [],
      "collapsed_sections": []
    },
    "kernelspec": {
      "name": "python3",
      "display_name": "Python 3"
    }
  },
  "cells": [
    {
      "cell_type": "code",
      "metadata": {
        "id": "Uu-V_0s3GVDt",
        "outputId": "ec6cc3ef-9777-4bb5-9130-8585d0f9317c",
        "colab": {
          "base_uri": "https://localhost:8080/"
        }
      },
      "source": [
        "#Ejercicio 1\n",
        "a = input(\"Ingresa un valor del 1 al 10 : \")\n",
        "if a=='2'or a=='4' or a=='6' or a=='8' or a=='10':\n",
        "  print(\"Par\")\n",
        "else:\n",
        " print(\"Impar\")\n",
        "\n",
        "\n"
      ],
      "execution_count": 8,
      "outputs": [
        {
          "output_type": "stream",
          "text": [
            "Ingresa un valor del 1 al 10 : 5\n",
            "Impar\n"
          ],
          "name": "stdout"
        }
      ]
    }
  ]
}